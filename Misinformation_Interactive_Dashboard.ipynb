{
  "cells": [
    {
      "cell_type": "code",
      "execution_count": null,
      "metadata": {
        "id": "8x4Bf7UUnOie"
      },
      "outputs": [],
      "source": [
        "!pip install plotly\n",
        "!pip install dash\n",
        "!pip install jupyter_dash\n",
        "!pip install dash_bootstrap_components\n",
        "!pip install dash_bootstrap_templates"
      ]
    },
    {
      "cell_type": "code",
      "execution_count": null,
      "metadata": {
        "id": "vvwu1uZPnfXE"
      },
      "outputs": [],
      "source": [
        "import csv\n",
        "import nltk\n",
        "from nltk import word_tokenize\n",
        "from nltk.util import ngrams\n",
        "from collections import Counter\n",
        "import re\n",
        "from nltk.corpus import stopwords\n",
        "from nltk.tag import pos_tag\n",
        "import numpy as np\n",
        "import pandas as pd\n",
        "import string\n",
        "\n",
        "nltk.download('averaged_perceptron_tagger')\n",
        "nltk.download('maxent_ne_chunker')\n",
        "nltk.download('words')\n",
        "nltk.download('stopwords')\n",
        "nltk.download('punkt')\n",
        "nltk.download('vader_lexicon')\n",
        "\n",
        "sw = stopwords.words('english')"
      ]
    },
    {
      "cell_type": "code",
      "execution_count": null,
      "metadata": {
        "id": "wT2ur3rWnj7N"
      },
      "outputs": [],
      "source": [
        "def process_text(text):\n",
        "    # Remove punctuation\n",
        "    text = text.translate(str.maketrans('', '', string.punctuation))\n",
        "    \n",
        "    # Tokenize the text into words\n",
        "    tokens = word_tokenize(text)\n",
        "    \n",
        "    # Remove stopwords\n",
        "    stop_words = set(stopwords.words('english'))\n",
        "    filtered_tokens = [word for word in tokens if word.lower() not in stop_words]\n",
        "    \n",
        "    # Lowercase the tokens\n",
        "    lowercase_tokens = [word.lower() for word in filtered_tokens]\n",
        "    \n",
        "    # Join the tokens back into a string\n",
        "    clean_text = ' '.join(lowercase_tokens)\n",
        "    \n",
        "    return clean_text"
      ]
    },
    {
      "cell_type": "code",
      "execution_count": null,
      "metadata": {
        "id": "YS5hbH6cnnr0"
      },
      "outputs": [],
      "source": [
        "def gram_count(file_name, n_gram):\n",
        "    # Read the file into a DataFrame\n",
        "    df = pd.read_csv(file_name, encoding='ISO-8859-1')\n",
        "    \n",
        "    # Extract the text data and preprocess it\n",
        "    text_data = df['text'].tolist()\n",
        "    processed_text = [process_text(str(text)) for text in text_data if text != '']\n",
        "    \n",
        "    # Combine the preprocessed text into a single string\n",
        "    processed_text = ' '.join(processed_text)\n",
        "    \n",
        "    # Tokenize the text into words and remove stopwords\n",
        "    stop_words = set(stopwords.words('english'))\n",
        "    words = [word for word in word_tokenize(processed_text) if word.lower() not in stop_words]\n",
        "    \n",
        "    # Generate the n-grams and count their frequencies\n",
        "    n_grams = ngrams(words, n_gram)\n",
        "    n_gram_counts = Counter(n_grams)\n",
        "    \n",
        "    return n_gram_counts"
      ]
    },
    {
      "cell_type": "code",
      "execution_count": null,
      "metadata": {
        "id": "THD4LKysop28"
      },
      "outputs": [],
      "source": [
        "path = \"--filepath--\""
      ]
    },
    {
      "cell_type": "code",
      "execution_count": null,
      "metadata": {
        "id": "8B1psZMupBYh"
      },
      "outputs": [],
      "source": [
        "fake_1gram = gram_count(path+\"DataSet_Misinfo_FAKE.csv\",1)\n",
        "fake_2gram = gram_count(path+\"DataSet_Misinfo_FAKE.csv\",2)\n",
        "fake_3gram = gram_count(path+\"DataSet_Misinfo_FAKE.csv\",3)"
      ]
    },
    {
      "cell_type": "code",
      "execution_count": null,
      "metadata": {
        "id": "fs8QEGE5qNX-"
      },
      "outputs": [],
      "source": [
        "true_1gram = gram_count(path+\"DataSet_Misinfo_TRUE.csv\",1)\n",
        "true_2gram = gram_count(path+\"DataSet_Misinfo_TRUE.csv\",2)\n",
        "true_3gram = gram_count(path+\"DataSet_Misinfo_TRUE.csv\",3)"
      ]
    },
    {
      "cell_type": "code",
      "execution_count": null,
      "metadata": {
        "id": "D05zuzp2qNSC"
      },
      "outputs": [],
      "source": [
        "propa_1gram = gram_count(path+\"EXTRA_RussianPropagandaSubset.csv\",1)\n",
        "propa_2gram = gram_count(path+\"EXTRA_RussianPropagandaSubset.csv\",2)\n",
        "propa_3gram = gram_count(path+\"EXTRA_RussianPropagandaSubset.csv\",3)"
      ]
    },
    {
      "cell_type": "code",
      "execution_count": null,
      "metadata": {
        "id": "7SWS1plDFtRr"
      },
      "outputs": [],
      "source": [
        "def sort_n_gram(n_gram):\n",
        "    # Convert the word counter to a pandas dataframe\n",
        "        df = pd.DataFrame.from_dict(n_gram, orient='index', columns=['Frequency'])\n",
        "\n",
        "    # Sort the dataframe by frequency in descending order\n",
        "        df = df.sort_values(by=['Frequency'], ascending=False).reset_index()\n",
        "        df.columns = ['word','count']\n",
        "        df['word'] = df['word'].apply(lambda x: re.sub('[^A-Za-z0-9]',' ', str(x)))\n",
        "        df['word'] = df['word'].apply(lambda x: re.sub('\\s+',' ', str(x)))\n",
        "        df = df.query('word!=\" \"')\n",
        "        return df"
      ]
    },
    {
      "cell_type": "code",
      "execution_count": null,
      "metadata": {
        "id": "Xjx69NKSF36F"
      },
      "outputs": [],
      "source": [
        "fake_1gram = sort_n_gram(fake_1gram)\n",
        "fake_2gram = sort_n_gram(fake_2gram)\n",
        "fake_3gram = sort_n_gram(fake_3gram)"
      ]
    },
    {
      "cell_type": "code",
      "execution_count": null,
      "metadata": {
        "id": "1x6cmujXGmK1"
      },
      "outputs": [],
      "source": [
        "true_1gram = sort_n_gram(true_1gram)\n",
        "true_2gram = sort_n_gram(true_2gram)\n",
        "true_3gram = sort_n_gram(true_3gram)"
      ]
    },
    {
      "cell_type": "code",
      "execution_count": null,
      "metadata": {
        "id": "iIhtxrCSGnI4"
      },
      "outputs": [],
      "source": [
        "propa_1gram = sort_n_gram(propa_1gram)\n",
        "propa_2gram = sort_n_gram(propa_2gram)\n",
        "propa_3gram = sort_n_gram(propa_3gram)"
      ]
    },
    {
      "cell_type": "code",
      "execution_count": null,
      "metadata": {
        "id": "AnjWUsWWpaMM"
      },
      "outputs": [],
      "source": [
        "df = {\"fake\":{1:fake_1gram,2:fake_2gram,3:fake_3gram},\"true\":{1:true_1gram,2:true_2gram,3:true_3gram},\"propa\":{1:propa_1gram,2:propa_2gram,3:propa_3gram}}"
      ]
    },
    {
      "cell_type": "code",
      "execution_count": null,
      "metadata": {
        "id": "kBk3BDd0HZeZ"
      },
      "outputs": [],
      "source": [
        "test = df[\"fake\"][1]"
      ]
    },
    {
      "cell_type": "code",
      "execution_count": null,
      "metadata": {
        "id": "ezy13ypsSMT8",
        "colab": {
          "base_uri": "https://localhost:8080/",
          "height": 542
        },
        "outputId": "32d4865d-f505-4cf0-b720-ae319bf4b6c6"
      },
      "outputs": [
        {
          "output_type": "display_data",
          "data": {
            "text/html": [
              "<html>\n",
              "<head><meta charset=\"utf-8\" /></head>\n",
              "<body>\n",
              "    <div>            <script src=\"https://cdnjs.cloudflare.com/ajax/libs/mathjax/2.7.5/MathJax.js?config=TeX-AMS-MML_SVG\"></script><script type=\"text/javascript\">if (window.MathJax && window.MathJax.Hub && window.MathJax.Hub.Config) {window.MathJax.Hub.Config({SVG: {font: \"STIX-Web\"}});}</script>                <script type=\"text/javascript\">window.PlotlyConfig = {MathJaxConfig: 'local'};</script>\n",
              "        <script src=\"https://cdn.plot.ly/plotly-2.18.2.min.js\"></script>                <div id=\"76a71b19-5deb-4ebf-994d-d6408c3617c5\" class=\"plotly-graph-div\" style=\"height:525px; width:100%;\"></div>            <script type=\"text/javascript\">                                    window.PLOTLYENV=window.PLOTLYENV || {};                                    if (document.getElementById(\"76a71b19-5deb-4ebf-994d-d6408c3617c5\")) {                    Plotly.newPlot(                        \"76a71b19-5deb-4ebf-994d-d6408c3617c5\",                        [{\"alignmentgroup\":\"True\",\"hovertemplate\":\"count=%{x}<br>word=%{y}<extra></extra>\",\"legendgroup\":\"\",\"marker\":{\"color\":\"#5769fe\",\"pattern\":{\"shape\":\"\"}},\"name\":\"\",\"offsetgroup\":\"\",\"orientation\":\"h\",\"showlegend\":false,\"textposition\":\"auto\",\"x\":[95535,49668,46738,46480,42562,42385,39127,35809,30400,28736,28362,28034,25929,25223,24110,23872,23268,20768,20036,19936],\"xaxis\":\"x\",\"y\":[\" trump \",\" us \",\" said \",\" people \",\" would \",\" one \",\" clinton \",\" president \",\" like \",\" hillary \",\" also \",\" new \",\" obama \",\" even \",\" donald \",\" time \",\" state \",\" news \",\" could \",\" many \"],\"yaxis\":\"y\",\"type\":\"bar\"}],                        {\"template\":{\"data\":{\"barpolar\":[{\"marker\":{\"line\":{\"color\":\"white\",\"width\":0.5},\"pattern\":{\"fillmode\":\"overlay\",\"size\":10,\"solidity\":0.2}},\"type\":\"barpolar\"}],\"bar\":[{\"error_x\":{\"color\":\"#2a3f5f\"},\"error_y\":{\"color\":\"#2a3f5f\"},\"marker\":{\"line\":{\"color\":\"white\",\"width\":0.5},\"pattern\":{\"fillmode\":\"overlay\",\"size\":10,\"solidity\":0.2}},\"type\":\"bar\"}],\"carpet\":[{\"aaxis\":{\"endlinecolor\":\"#2a3f5f\",\"gridcolor\":\"#C8D4E3\",\"linecolor\":\"#C8D4E3\",\"minorgridcolor\":\"#C8D4E3\",\"startlinecolor\":\"#2a3f5f\"},\"baxis\":{\"endlinecolor\":\"#2a3f5f\",\"gridcolor\":\"#C8D4E3\",\"linecolor\":\"#C8D4E3\",\"minorgridcolor\":\"#C8D4E3\",\"startlinecolor\":\"#2a3f5f\"},\"type\":\"carpet\"}],\"choropleth\":[{\"colorbar\":{\"outlinewidth\":0,\"ticks\":\"\"},\"type\":\"choropleth\"}],\"contourcarpet\":[{\"colorbar\":{\"outlinewidth\":0,\"ticks\":\"\"},\"type\":\"contourcarpet\"}],\"contour\":[{\"colorbar\":{\"outlinewidth\":0,\"ticks\":\"\"},\"colorscale\":[[0.0,\"#0d0887\"],[0.1111111111111111,\"#46039f\"],[0.2222222222222222,\"#7201a8\"],[0.3333333333333333,\"#9c179e\"],[0.4444444444444444,\"#bd3786\"],[0.5555555555555556,\"#d8576b\"],[0.6666666666666666,\"#ed7953\"],[0.7777777777777778,\"#fb9f3a\"],[0.8888888888888888,\"#fdca26\"],[1.0,\"#f0f921\"]],\"type\":\"contour\"}],\"heatmapgl\":[{\"colorbar\":{\"outlinewidth\":0,\"ticks\":\"\"},\"colorscale\":[[0.0,\"#0d0887\"],[0.1111111111111111,\"#46039f\"],[0.2222222222222222,\"#7201a8\"],[0.3333333333333333,\"#9c179e\"],[0.4444444444444444,\"#bd3786\"],[0.5555555555555556,\"#d8576b\"],[0.6666666666666666,\"#ed7953\"],[0.7777777777777778,\"#fb9f3a\"],[0.8888888888888888,\"#fdca26\"],[1.0,\"#f0f921\"]],\"type\":\"heatmapgl\"}],\"heatmap\":[{\"colorbar\":{\"outlinewidth\":0,\"ticks\":\"\"},\"colorscale\":[[0.0,\"#0d0887\"],[0.1111111111111111,\"#46039f\"],[0.2222222222222222,\"#7201a8\"],[0.3333333333333333,\"#9c179e\"],[0.4444444444444444,\"#bd3786\"],[0.5555555555555556,\"#d8576b\"],[0.6666666666666666,\"#ed7953\"],[0.7777777777777778,\"#fb9f3a\"],[0.8888888888888888,\"#fdca26\"],[1.0,\"#f0f921\"]],\"type\":\"heatmap\"}],\"histogram2dcontour\":[{\"colorbar\":{\"outlinewidth\":0,\"ticks\":\"\"},\"colorscale\":[[0.0,\"#0d0887\"],[0.1111111111111111,\"#46039f\"],[0.2222222222222222,\"#7201a8\"],[0.3333333333333333,\"#9c179e\"],[0.4444444444444444,\"#bd3786\"],[0.5555555555555556,\"#d8576b\"],[0.6666666666666666,\"#ed7953\"],[0.7777777777777778,\"#fb9f3a\"],[0.8888888888888888,\"#fdca26\"],[1.0,\"#f0f921\"]],\"type\":\"histogram2dcontour\"}],\"histogram2d\":[{\"colorbar\":{\"outlinewidth\":0,\"ticks\":\"\"},\"colorscale\":[[0.0,\"#0d0887\"],[0.1111111111111111,\"#46039f\"],[0.2222222222222222,\"#7201a8\"],[0.3333333333333333,\"#9c179e\"],[0.4444444444444444,\"#bd3786\"],[0.5555555555555556,\"#d8576b\"],[0.6666666666666666,\"#ed7953\"],[0.7777777777777778,\"#fb9f3a\"],[0.8888888888888888,\"#fdca26\"],[1.0,\"#f0f921\"]],\"type\":\"histogram2d\"}],\"histogram\":[{\"marker\":{\"pattern\":{\"fillmode\":\"overlay\",\"size\":10,\"solidity\":0.2}},\"type\":\"histogram\"}],\"mesh3d\":[{\"colorbar\":{\"outlinewidth\":0,\"ticks\":\"\"},\"type\":\"mesh3d\"}],\"parcoords\":[{\"line\":{\"colorbar\":{\"outlinewidth\":0,\"ticks\":\"\"}},\"type\":\"parcoords\"}],\"pie\":[{\"automargin\":true,\"type\":\"pie\"}],\"scatter3d\":[{\"line\":{\"colorbar\":{\"outlinewidth\":0,\"ticks\":\"\"}},\"marker\":{\"colorbar\":{\"outlinewidth\":0,\"ticks\":\"\"}},\"type\":\"scatter3d\"}],\"scattercarpet\":[{\"marker\":{\"colorbar\":{\"outlinewidth\":0,\"ticks\":\"\"}},\"type\":\"scattercarpet\"}],\"scattergeo\":[{\"marker\":{\"colorbar\":{\"outlinewidth\":0,\"ticks\":\"\"}},\"type\":\"scattergeo\"}],\"scattergl\":[{\"marker\":{\"line\":{\"color\":\"#fff\"}},\"type\":\"scattergl\"}],\"scattermapbox\":[{\"marker\":{\"colorbar\":{\"outlinewidth\":0,\"ticks\":\"\"}},\"type\":\"scattermapbox\"}],\"scatterpolargl\":[{\"marker\":{\"colorbar\":{\"outlinewidth\":0,\"ticks\":\"\"}},\"type\":\"scatterpolargl\"}],\"scatterpolar\":[{\"marker\":{\"colorbar\":{\"outlinewidth\":0,\"ticks\":\"\"}},\"type\":\"scatterpolar\"}],\"scatter\":[{\"marker\":{\"line\":{\"color\":\"#fff\"}},\"type\":\"scatter\"}],\"scatterternary\":[{\"marker\":{\"colorbar\":{\"outlinewidth\":0,\"ticks\":\"\"}},\"type\":\"scatterternary\"}],\"surface\":[{\"colorbar\":{\"outlinewidth\":0,\"ticks\":\"\"},\"colorscale\":[[0.0,\"#0d0887\"],[0.1111111111111111,\"#46039f\"],[0.2222222222222222,\"#7201a8\"],[0.3333333333333333,\"#9c179e\"],[0.4444444444444444,\"#bd3786\"],[0.5555555555555556,\"#d8576b\"],[0.6666666666666666,\"#ed7953\"],[0.7777777777777778,\"#fb9f3a\"],[0.8888888888888888,\"#fdca26\"],[1.0,\"#f0f921\"]],\"type\":\"surface\"}],\"table\":[{\"cells\":{\"fill\":{\"color\":\"#EBF0F8\"},\"line\":{\"color\":\"white\"}},\"header\":{\"fill\":{\"color\":\"#C8D4E3\"},\"line\":{\"color\":\"white\"}},\"type\":\"table\"}]},\"layout\":{\"annotationdefaults\":{\"arrowcolor\":\"#2a3f5f\",\"arrowhead\":0,\"arrowwidth\":1,\"font\":{\"color\":\"#212529\"}},\"autotypenumbers\":\"strict\",\"coloraxis\":{\"colorbar\":{\"outlinewidth\":0,\"ticks\":\"\"}},\"colorscale\":{\"diverging\":[[0,\"#8e0152\"],[0.1,\"#c51b7d\"],[0.2,\"#de77ae\"],[0.3,\"#f1b6da\"],[0.4,\"#fde0ef\"],[0.5,\"#f7f7f7\"],[0.6,\"#e6f5d0\"],[0.7,\"#b8e186\"],[0.8,\"#7fbc41\"],[0.9,\"#4d9221\"],[1,\"#276419\"]],\"sequential\":[[0.0,\"#0d6efd\"],[0.1,\"#286eef\"],[0.2,\"#426fe2\"],[0.30000000000000004,\"#5d6fd4\"],[0.4,\"#786fc7\"],[0.5,\"#926fb9\"],[0.6000000000000001,\"#ad70ac\"],[0.7000000000000001,\"#c8709e\"],[0.8,\"#e37091\"],[0.9,\"#fd7083\"],[1.0,\"#ff7176\"]],\"sequentialminus\":[[0.0,\"#0d0887\"],[0.1111111111111111,\"#46039f\"],[0.2222222222222222,\"#7201a8\"],[0.3333333333333333,\"#9c179e\"],[0.4444444444444444,\"#bd3786\"],[0.5555555555555556,\"#d8576b\"],[0.6666666666666666,\"#ed7953\"],[0.7777777777777778,\"#fb9f3a\"],[0.8888888888888888,\"#fdca26\"],[1.0,\"#f0f921\"]]},\"colorway\":[\"#5769fe\",\"#d93446\",\"#06a843\",\"#f7c200\",\"#43c9f0\"],\"font\":{\"color\":\"#212529\",\"family\":\"system-ui,-apple-system,\\\"Segoe UI\\\",Roboto,\\\"Helvetica Neue\\\",Arial,\\\"Noto Sans\\\",\\\"Liberation Sans\\\",sans-serif,\\\"Apple Color Emoji\\\",\\\"Segoe UI Emoji\\\",\\\"Segoe UI Symbol\\\",\\\"Noto Color Emoji\\\"\"},\"geo\":{\"bgcolor\":\"#fff\",\"lakecolor\":\"#fff\",\"landcolor\":\"#fff\",\"showlakes\":true,\"showland\":true,\"subunitcolor\":\"#C8D4E3\"},\"hoverlabel\":{\"align\":\"left\",\"font\":{\"family\":\"system-ui,-apple-system,\\\"Segoe UI\\\",Roboto,\\\"Helvetica Neue\\\",Arial,\\\"Noto Sans\\\",\\\"Liberation Sans\\\",sans-serif,\\\"Apple Color Emoji\\\",\\\"Segoe UI Emoji\\\",\\\"Segoe UI Symbol\\\",\\\"Noto Color Emoji\\\"\"}},\"hovermode\":\"closest\",\"mapbox\":{\"style\":\"light\"},\"paper_bgcolor\":\"#ffffff\",\"piecolorway\":[\"#5769fe\",\"#d93446\",\"#06a843\",\"#f7c200\",\"#43c9f0\"],\"plot_bgcolor\":\"#fff\",\"polar\":{\"angularaxis\":{\"gridcolor\":\"#EBF0F8\",\"linecolor\":\"#EBF0F8\",\"ticks\":\"\"},\"bgcolor\":\"white\",\"radialaxis\":{\"gridcolor\":\"#EBF0F8\",\"linecolor\":\"#EBF0F8\",\"ticks\":\"\"}},\"scene\":{\"xaxis\":{\"backgroundcolor\":\"white\",\"gridcolor\":\"#DFE8F3\",\"gridwidth\":2,\"linecolor\":\"#EBF0F8\",\"showbackground\":true,\"ticks\":\"\",\"zerolinecolor\":\"#EBF0F8\"},\"yaxis\":{\"backgroundcolor\":\"white\",\"gridcolor\":\"#DFE8F3\",\"gridwidth\":2,\"linecolor\":\"#EBF0F8\",\"showbackground\":true,\"ticks\":\"\",\"zerolinecolor\":\"#EBF0F8\"},\"zaxis\":{\"backgroundcolor\":\"white\",\"gridcolor\":\"#DFE8F3\",\"gridwidth\":2,\"linecolor\":\"#EBF0F8\",\"showbackground\":true,\"ticks\":\"\",\"zerolinecolor\":\"#EBF0F8\"}},\"shapedefaults\":{\"line\":{\"color\":\"#2a3f5f\"}},\"ternary\":{\"aaxis\":{\"gridcolor\":\"#DFE8F3\",\"linecolor\":\"#A2B1C6\",\"ticks\":\"\"},\"baxis\":{\"gridcolor\":\"#DFE8F3\",\"linecolor\":\"#A2B1C6\",\"ticks\":\"\"},\"bgcolor\":\"white\",\"caxis\":{\"gridcolor\":\"#DFE8F3\",\"linecolor\":\"#A2B1C6\",\"ticks\":\"\"}},\"title\":{\"x\":0.05},\"xaxis\":{\"automargin\":true,\"gridcolor\":\"#edeeee\",\"gridwidth\":0.5,\"linecolor\":\"#EBF0F8\",\"ticks\":\"\",\"title\":{\"standoff\":15},\"zerolinecolor\":\"#edeeee\",\"zerolinewidth\":2},\"yaxis\":{\"automargin\":true,\"gridcolor\":\"#edeeee\",\"gridwidth\":0.5,\"linecolor\":\"#EBF0F8\",\"ticks\":\"\",\"title\":{\"standoff\":15},\"zerolinecolor\":\"#edeeee\",\"zerolinewidth\":2}}},\"xaxis\":{\"anchor\":\"y\",\"domain\":[0.0,1.0],\"title\":{\"text\":\"count\"}},\"yaxis\":{\"anchor\":\"x\",\"domain\":[0.0,1.0],\"title\":{\"text\":\"word\"},\"categoryorder\":\"total ascending\"},\"legend\":{\"tracegroupgap\":0},\"margin\":{\"t\":60},\"barmode\":\"stack\"},                        {\"responsive\": true}                    ).then(function(){\n",
              "                            \n",
              "var gd = document.getElementById('76a71b19-5deb-4ebf-994d-d6408c3617c5');\n",
              "var x = new MutationObserver(function (mutations, observer) {{\n",
              "        var display = window.getComputedStyle(gd).display;\n",
              "        if (!display || display === 'none') {{\n",
              "            console.log([gd, 'removed!']);\n",
              "            Plotly.purge(gd);\n",
              "            observer.disconnect();\n",
              "        }}\n",
              "}});\n",
              "\n",
              "// Listen for the removal of the full notebook cells\n",
              "var notebookContainer = gd.closest('#notebook-container');\n",
              "if (notebookContainer) {{\n",
              "    x.observe(notebookContainer, {childList: true});\n",
              "}}\n",
              "\n",
              "// Listen for the clearing of the current output cell\n",
              "var outputEl = gd.closest('.output');\n",
              "if (outputEl) {{\n",
              "    x.observe(outputEl, {childList: true});\n",
              "}}\n",
              "\n",
              "                        })                };                            </script>        </div>\n",
              "</body>\n",
              "</html>"
            ]
          },
          "metadata": {}
        }
      ],
      "source": [
        "px.bar(\n",
        "    test[:20],\n",
        "    y = 'word',\n",
        "    x = 'count'\n",
        ").update_layout(barmode='stack', yaxis={'categoryorder':'total ascending'})"
      ]
    },
    {
      "cell_type": "code",
      "execution_count": null,
      "metadata": {
        "id": "EIglsfDR9xoh",
        "colab": {
          "base_uri": "https://localhost:8080/",
          "height": 743
        },
        "outputId": "80d9eb81-aa19-405f-d8a6-19bb5ca03862"
      },
      "outputs": [
        {
          "output_type": "stream",
          "name": "stdout",
          "text": [
            "Dash is running on http://127.0.0.1:8664/\n",
            "\n"
          ]
        },
        {
          "output_type": "stream",
          "name": "stderr",
          "text": [
            "INFO:dash.dash:Dash is running on http://127.0.0.1:8664/\n",
            "\n"
          ]
        },
        {
          "output_type": "display_data",
          "data": {
            "text/plain": [
              "<IPython.core.display.Javascript object>"
            ],
            "application/javascript": [
              "(async (port, path, width, height, cache, element) => {\n",
              "    if (!google.colab.kernel.accessAllowed && !cache) {\n",
              "      return;\n",
              "    }\n",
              "    element.appendChild(document.createTextNode(''));\n",
              "    const url = await google.colab.kernel.proxyPort(port, {cache});\n",
              "    const iframe = document.createElement('iframe');\n",
              "    iframe.src = new URL(path, url).toString();\n",
              "    iframe.height = height;\n",
              "    iframe.width = width;\n",
              "    iframe.style.border = 0;\n",
              "    iframe.allow = [\n",
              "        'accelerometer',\n",
              "        'autoplay',\n",
              "        'camera',\n",
              "        'clipboard-read',\n",
              "        'clipboard-write',\n",
              "        'gyroscope',\n",
              "        'magnetometer',\n",
              "        'microphone',\n",
              "        'serial',\n",
              "        'usb',\n",
              "        'xr-spatial-tracking',\n",
              "    ].join('; ');\n",
              "    element.appendChild(iframe);\n",
              "  })(8664, \"/\", \"100%\", 650, false, window.element)"
            ]
          },
          "metadata": {}
        }
      ],
      "source": [
        "import matplotlib.pyplot as plt\n",
        "from jupyter_dash import JupyterDash\n",
        "from dash import dcc, html\n",
        "from dash.dependencies import Output, Input\n",
        "from dash.exceptions import PreventUpdate\n",
        "import plotly.graph_objs as go\n",
        "import plotly.express as px\n",
        "import pandas as pd\n",
        "import os\n",
        "import dash_bootstrap_components as dbc\n",
        "from dash_bootstrap_templates import load_figure_template\n",
        "from nltk.sentiment.vader import SentimentIntensityAnalyzer\n",
        "\n",
        "\n",
        "dbc_css = \"https://cdn.jsdelivr.net/gh/AnnMarieW/dash-bootstrap-templates/dbc.min.css\"\n",
        "# Create an instance of the SentimentIntensityAnalyzer class\n",
        "sia = SentimentIntensityAnalyzer()\n",
        "\n",
        "# Define a function to calculate the sentiment score for each bigram\n",
        "def get_sentiment(ngram):\n",
        "    return sia.polarity_scores(ngram)['compound']\n",
        "\n",
        "app = JupyterDash(__name__, external_stylesheets=[dbc.themes.LUMEN, dbc_css])\n",
        "\n",
        "load_figure_template(\"LUMEN\")\n",
        "\n",
        "app.layout = dbc.Container(\n",
        "    [\n",
        "        html.H2(),\n",
        "        dbc.Alert(html.H2(\"Misinformation & Fake News text Analysis\"), color=\"primary\"),\n",
        "\n",
        "        dbc.Tabs(\n",
        "            [\n",
        "                dbc.Tab(label=\"Top Words\", tab_id=\"gen\",children = [\n",
        "                        dbc.Row([\n",
        "                                dbc.Row([\n",
        "                                    dbc.Col(\n",
        "                                        dbc.RadioItems(id = \"type_radio\",value = \"fake\",inline = True,\n",
        "                                            options=[\n",
        "                                                {\"label\": \"True News\", \"value\": \"true\"},\n",
        "                                                {\"label\": \"Fake News\", \"value\": \"fake\"},\n",
        "                                                {\"label\": \"Russian Propaganda\", \"value\": \"propa\"}\n",
        "                                            ],),\n",
        "                                        width=6  \n",
        "                                        ),\n",
        "                                    dbc.Col(\n",
        "                                         html.Div([\n",
        "                                             html.P(\"Top: \"),                \n",
        "                                             dcc.Dropdown(\n",
        "                                                 id=\"top-dropdown\", \n",
        "                                                options=[5,10,15,20,30,40,50],\n",
        "                                                value=10,\n",
        "                                                className=\"dbc\"\n",
        "                                             )\n",
        "                                            ],style = {'display': 'flex'}\n",
        "                                        ),width=2\n",
        "                                    ),\n",
        "                                    dbc.Col(\n",
        "                                         html.Div([   \n",
        "                                                html.P(\"N-Gram: \"),                \n",
        "                                                dcc.Dropdown(\n",
        "                                                    id=\"gram-dropdown\", \n",
        "                                                    options=[1,2,3],\n",
        "                                                    value=1,\n",
        "                                                    className=\"dbc\",\n",
        "                                                )\n",
        "                                            ],style = {'display': 'flex'}\n",
        "                                         )\n",
        "                                    )\n",
        "                                ]),\n",
        "                                html.H1(),\n",
        "                                dbc.Col(dbc.Card(dcc.Graph(id=\"top_word\")))\n",
        "                        ])\n",
        "                ]),\n",
        "                dbc.Tab(\n",
        "                    label=\"Sentimental Analysis\", \n",
        "                    tab_id=\"sent\",\n",
        "                    children = [\n",
        "                        dcc.Markdown(id='title2'),\n",
        "                        dbc.Row([\n",
        "                                dbc.Row([\n",
        "                                    dbc.Col(\n",
        "                                        dbc.RadioItems(id = \"type_radio2\",value = \"fake\",inline = True,\n",
        "                                            options=[\n",
        "                                                {\"label\": \"True News\", \"value\": \"true\"},\n",
        "                                                {\"label\": \"Fake News\", \"value\": \"fake\"},\n",
        "                                                {\"label\": \"Russian Propaganda\", \"value\": \"propa\"}\n",
        "                                            ],),\n",
        "                                        width=6  \n",
        "                                        ),\n",
        "                                    dbc.Col(\n",
        "                                         html.Div([\n",
        "                                             html.P(\"Top: \"),                \n",
        "                                             dcc.Dropdown(\n",
        "                                                 id=\"top-dropdown2\", \n",
        "                                                options=[5,10,15],\n",
        "                                                value=10,\n",
        "                                                className=\"dbc\"\n",
        "                                             )\n",
        "                                            ],style = {'display': 'flex'}\n",
        "                                        ),width=2\n",
        "                                    ),\n",
        "                                    dbc.Col(\n",
        "                                         html.Div([   \n",
        "                                                html.P(\"N-Gram: \"),                \n",
        "                                                dcc.Dropdown(\n",
        "                                                    id=\"gram-dropdown2\", \n",
        "                                                    options=[1,2,3],\n",
        "                                                    value=1,\n",
        "                                                    className=\"dbc\",\n",
        "                                                )\n",
        "                                            ],style = {'display': 'flex'}\n",
        "                                         )\n",
        "                                    )\n",
        "                                ]),\n",
        "                                html.H1(),\n",
        "                                dbc.Col(\n",
        "                                    dbc.Card(\n",
        "                                        dcc.Graph(id=\"sent_bar\"),\n",
        "                                    ),\n",
        "                                    width=7\n",
        "                                ),\n",
        "                                dbc.Col(\n",
        "                                    dbc.Card(\n",
        "                                        dcc.Graph(id=\"sent_pie\"),\n",
        "                                    ),\n",
        "                                    width=5\n",
        "                                ),\n",
        "                        ])\n",
        "                    ]\n",
        "                ),\n",
        "             \n",
        "            ],\n",
        "            id=\"tabs\",\n",
        "            active_tab=\"gen\",\n",
        "        ),\n",
        "        html.Div(id=\"tab-content\", className=\"p-4\"),\n",
        "    ]\n",
        ")\n",
        "\n",
        "@app.callback(\n",
        "    Output(\"top_word\", \"figure\"),\n",
        "    [Input(\"type_radio\", \"value\"), Input(\"top-dropdown\", \"value\"), Input(\"gram-dropdown\",\"value\")],\n",
        ")\n",
        "def render_top_word(dataset,top_n,n_gram):\n",
        "    top_df = df[dataset][n_gram][:top_n]\n",
        "    \n",
        "    fig = px.bar (\n",
        "            top_df,\n",
        "            y = 'word',\n",
        "            x = 'count'\n",
        "    ).update_layout(barmode='stack', yaxis={'categoryorder':'total ascending'})\n",
        "    return fig\n",
        "\n",
        "@app.callback(\n",
        "    Output(\"sent_bar\", \"figure\"),\n",
        "    [Input(\"type_radio2\", \"value\"), Input(\"top-dropdown2\", \"value\"), Input(\"gram-dropdown2\",\"value\")],\n",
        ")\n",
        "def render_sent_bar(dataset,top_n,n_gram):\n",
        "    df_filtered = df[dataset][n_gram][:500]\n",
        "    # Apply the get_sentiment function to the 'bigram' column of the DataFrame\n",
        "    df_filtered['sentiment'] = df_filtered['word'].apply(get_sentiment)\n",
        "    # Group the DataFrame by sentiment score and select the top N words for each sentiment category\n",
        "\n",
        "    df_top_positive = df_filtered[df_filtered['sentiment'] > 0].nlargest(top_n, 'sentiment')\n",
        "    df_top_negative = df_filtered[df_filtered['sentiment'] < 0].nsmallest(top_n, 'sentiment')\n",
        "    \n",
        "    if dataset==\"true\": name = \"True News\"\n",
        "    elif dataset==\"false\": name = \"False News\"\n",
        "    else: name = \"Russian Propaganda\"\n",
        "    # Create a horizontal bar plot\n",
        "    fig = go.Figure()\n",
        "    fig.add_trace(go.Bar(\n",
        "        y=df_top_positive['word'],\n",
        "        x=df_top_positive['sentiment'],\n",
        "        name='Positive',\n",
        "        orientation='h',\n",
        "        marker=dict(\n",
        "            color='green'\n",
        "        )\n",
        "    ))\n",
        "    fig.add_trace(go.Bar(\n",
        "        y=df_top_negative[::-1]['word'],\n",
        "        x=df_top_negative[::-1]['sentiment'],\n",
        "        name='Negative',\n",
        "        orientation='h',\n",
        "        marker=dict(\n",
        "            color='red'\n",
        "        ),\n",
        "    ))\n",
        "\n",
        "    # Set the layout of the plot\n",
        "    fig.update_layout(\n",
        "        xaxis_title='Sentiment Score',\n",
        "        yaxis_title=f'{n_gram}-Gram',\n",
        "        barmode='stack',\n",
        "    )\n",
        "    return fig\n",
        "\n",
        "@app.callback(\n",
        "    Output(\"sent_pie\", \"figure\"),\n",
        "    [Input(\"type_radio2\", \"value\"), Input(\"gram-dropdown2\",\"value\")],\n",
        ")\n",
        "def render_sent_pie(dataset,n_gram):\n",
        "    df_filtered = df[dataset][n_gram]\n",
        "    df_filtered['sentiment'] = df_filtered['word'].apply(get_sentiment)\n",
        "    df_filtered['category'] = df_filtered['sentiment'].apply(sent_catigorize)\n",
        "    if dataset==\"true\": name = \"True News\"\n",
        "    elif dataset==\"false\": name = \"False News\"\n",
        "    else: name = \"Russian Propaganda\"\n",
        "    fig = px.pie(\n",
        "        df_filtered.groupby('category').agg(\"count\").reset_index(),\n",
        "        values=\"count\",\n",
        "        names = 'category',\n",
        "        hole=0.6\n",
        "    )\n",
        "    return fig\n",
        "\n",
        "def sent_catigorize(score):\n",
        "    if score>0: return \"Positive\"\n",
        "    elif score<0: return \"Negative\"\n",
        "    else: \"Neutral\"\n",
        "\n",
        "\n",
        "app.run_server(debug=True, mode=\"inline\", port=8664)"
      ]
    }
  ],
  "metadata": {
    "accelerator": "GPU",
    "colab": {
      "provenance": []
    },
    "gpuClass": "premium",
    "kernelspec": {
      "display_name": "Python 3",
      "name": "python3"
    },
    "language_info": {
      "name": "python"
    }
  },
  "nbformat": 4,
  "nbformat_minor": 0
}